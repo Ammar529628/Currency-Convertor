{
 "cells": [
  {
   "cell_type": "code",
   "execution_count": null,
   "metadata": {
    "collapsed": true,
    "ExecuteTime": {
     "start_time": "2023-04-16T01:40:22.451585Z",
     "end_time": "2023-04-16T01:40:22.490559Z"
    },
    "pycharm": {
     "is_executing": true
    }
   },
   "outputs": [],
   "source": [
    "%gui tk"
   ]
  },
  {
   "cell_type": "code",
   "execution_count": null,
   "outputs": [],
   "source": [
    "import tkinter as tk\n",
    "from tkinter import ttk\n",
    "\n",
    "class CurrencyConverter:\n",
    "    def __init__(self, master):\n",
    "        self.master = master\n",
    "        self.master.title(\"Currency Converter\")\n",
    "\n",
    "        # Define conversion rates for currencies\n",
    "        self.conversion_rates = {\n",
    "            \"USD\": {\"EUR\": 0.83, \"JPY\": 110.0, \"GBP\": 0.75, \"PKR\": 260.0},\n",
    "            \"EUR\": {\"USD\": 1.2, \"JPY\": 132.0, \"GBP\": 0.9, \"PKR\": 313.25},\n",
    "            \"JPY\": {\"USD\": 0.009, \"EUR\": 0.0076, \"GBP\": 0.0068, \"PKR\": 2.36},\n",
    "            \"GBP\": {\"USD\": 1.33, \"EUR\": 1.11, \"JPY\": 146.0, \"PKR\": 346.67},\n",
    "            \"PKR\": {\"USD\": 0.0038, \"EUR\": 0.0032, \"JPY\": 0.4245, \"GBP\": 0.0029}\n",
    "        }\n",
    "\n",
    "        # Create currency selection dropdowns\n",
    "        currencies = [\"USD\", \"EUR\", \"JPY\", \"GBP\", \"PKR\"]\n",
    "        self.from_currency = tk.StringVar(value=currencies[0])\n",
    "        self.to_currency = tk.StringVar(value=currencies[1])\n",
    "        from_currency_menu = ttk.OptionMenu(master, self.from_currency, *currencies)\n",
    "        to_currency_menu = ttk.OptionMenu(master, self.to_currency, *currencies)\n",
    "        from_currency_menu.grid(row=0, column=0, padx=10, pady=10)\n",
    "        to_currency_menu.grid(row=0, column=2, padx=10, pady=10)\n",
    "\n",
    "        # Create input fields for amount\n",
    "        self.from_amount = tk.DoubleVar()\n",
    "        self.to_amount = tk.DoubleVar()\n",
    "        from_amount_entry = ttk.Entry(master, textvariable=self.from_amount)\n",
    "        to_amount_entry = ttk.Entry(master, textvariable=self.to_amount, state=\"readonly\")\n",
    "        from_amount_entry.grid(row=1, column=0, padx=10, pady=10)\n",
    "        to_amount_entry.grid(row=1, column=2, padx=10, pady=10)\n",
    "\n",
    "        # Create button for conversion\n",
    "        convert_button = ttk.Button(master, text=\"Convert\", command=self.convert)\n",
    "        convert_button.grid(row=1, column=1, padx=10, pady=10)\n",
    "\n",
    "        # Create button for reset\n",
    "        reset_button = ttk.Button(master, text=\"Reset\", command=self.reset)\n",
    "        reset_button.grid(row=2, column=1, padx=10, pady=10)\n",
    "\n",
    "    def convert(self):\n",
    "        try:\n",
    "            # Get amount to convert from input field\n",
    "            from_amount = self.from_amount.get()\n",
    "            from_currency = self.from_currency.get()\n",
    "            to_currency = self.to_currency.get()\n",
    "\n",
    "            # Convert based on conversion rates\n",
    "            to_amount = from_amount * self.conversion_rates[from_currency][to_currency]\n",
    "\n",
    "            # Update output field with converted amount\n",
    "            self.to_amount.set(round(to_amount, 2))\n",
    "        except ValueError:\n",
    "            # Handle invalid input\n",
    "            self.to_amount.set(\"Invalid input\")\n",
    "\n",
    "    def reset(self):\n",
    "        # Clear input and output fields\n",
    "        self.from_amount.set(0)\n",
    "        self.to_amount.set(0)\n",
    "\n",
    "root = tk.Tk()\n",
    "app = CurrencyConverter(root)\n",
    "root.mainloop()"
   ],
   "metadata": {
    "collapsed": false,
    "ExecuteTime": {
     "start_time": "2023-04-16T01:40:12.035634Z",
     "end_time": "2023-04-16T01:40:15.040959Z"
    },
    "pycharm": {
     "is_executing": true
    }
   }
  },
  {
   "cell_type": "code",
   "execution_count": null,
   "outputs": [],
   "source": [],
   "metadata": {
    "collapsed": false,
    "pycharm": {
     "is_executing": true
    }
   }
  },
  {
   "cell_type": "code",
   "execution_count": null,
   "outputs": [],
   "source": [],
   "metadata": {
    "collapsed": false,
    "pycharm": {
     "is_executing": true
    }
   }
  },
  {
   "cell_type": "code",
   "execution_count": null,
   "outputs": [],
   "source": [],
   "metadata": {
    "collapsed": false,
    "pycharm": {
     "is_executing": true
    }
   }
  }
 ],
 "metadata": {
  "kernelspec": {
   "display_name": "Python 3",
   "language": "python",
   "name": "python3"
  },
  "language_info": {
   "codemirror_mode": {
    "name": "ipython",
    "version": 2
   },
   "file_extension": ".py",
   "mimetype": "text/x-python",
   "name": "python",
   "nbconvert_exporter": "python",
   "pygments_lexer": "ipython2",
   "version": "2.7.6"
  }
 },
 "nbformat": 4,
 "nbformat_minor": 0
}
